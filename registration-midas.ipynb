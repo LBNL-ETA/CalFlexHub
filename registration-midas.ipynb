{
 "cells": [
  {
   "cell_type": "code",
   "execution_count": null,
   "metadata": {},
   "outputs": [],
   "source": [
    "# Code based on https://github.com/morganmshep/MIDAS-Python-Repository"
   ]
  },
  {
   "cell_type": "code",
   "execution_count": 2,
   "metadata": {},
   "outputs": [],
   "source": [
    "import requests\n",
    "import json\n",
    "import base64\n",
    "import yaml"
   ]
  },
  {
   "cell_type": "code",
   "execution_count": 3,
   "metadata": {},
   "outputs": [],
   "source": [
    "username = \"your_username_here\"\n",
    "user_encodedBytes = base64.b64encode(username.encode(\"utf-8\"))\n",
    "username64 = str(user_encodedBytes, \"utf-8\")\n",
    "\n",
    "#Password must include mix of uppercase, lowercase and numeric characters\n",
    "password = \"your_password_here\"\n",
    "pswd_encodedBytes = base64.b64encode(password.encode(\"utf-8\"))\n",
    "password64 = str(pswd_encodedBytes, \"utf-8\")\n",
    "\n",
    "emailaddress = \"your_email_here\"\n",
    "email_encodedBytes = base64.b64encode(emailaddress.encode(\"utf-8\"))\n",
    "emailaddress64 = str(email_encodedBytes, \"utf-8\")\n",
    "\n",
    "fullname = \"your_fullname_here\"\n",
    "fullname_encodedBytes = base64.b64encode(fullname.encode(\"utf-8\"))\n",
    "fullname64 = str(fullname_encodedBytes, \"utf-8\")\n"
   ]
  },
  {
   "cell_type": "code",
   "execution_count": 5,
   "metadata": {},
   "outputs": [],
   "source": [
    "#Put together the dict for the JSON payload\n",
    "registration_info = {\"username\":username64,\"password\":password64,\"emailaddress\":emailaddress64,\"fullname\":fullname64}\n",
    "\n",
    "url = 'https://midasapi.energy.ca.gov/api/registration'\n",
    "headers =  {\"Content-Type\":\"application/json\"}\n",
    "\n",
    "response = requests.post(url, data=json.dumps(registration_info), headers=headers)"
   ]
  },
  {
   "cell_type": "code",
   "execution_count": null,
   "metadata": {},
   "outputs": [],
   "source": [
    "#Prints below will return 200 response for successful call\n",
    "print(response)\n",
    "#Response text should be: 'User account for your_user_name was successfully created. A verification email has been sent to your_email. Please click the link in the email in order to start using the API.'\n",
    "print(response.text)"
   ]
  },
  {
   "cell_type": "code",
   "execution_count": 11,
   "metadata": {},
   "outputs": [],
   "source": [
    "# Creates midas_config.yaml\n",
    "dict_file = {'midas': {\n",
    "                'username': username,\n",
    "                'password': password\n",
    "            }\n",
    "        }\n",
    "with open('midas_config.yaml', 'w+') as file:\n",
    "    yaml.dump(dict_file, file)"
   ]
  }
 ],
 "metadata": {
  "kernelspec": {
   "display_name": "base",
   "language": "python",
   "name": "python3"
  },
  "language_info": {
   "codemirror_mode": {
    "name": "ipython",
    "version": 3
   },
   "file_extension": ".py",
   "mimetype": "text/x-python",
   "name": "python",
   "nbconvert_exporter": "python",
   "pygments_lexer": "ipython3",
   "version": "3.8.3"
  },
  "orig_nbformat": 4
 },
 "nbformat": 4,
 "nbformat_minor": 2
}
